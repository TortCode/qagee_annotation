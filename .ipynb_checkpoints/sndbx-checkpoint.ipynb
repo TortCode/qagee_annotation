{
 "cells": [
  {
   "cell_type": "code",
   "execution_count": 16,
   "metadata": {},
   "outputs": [],
   "source": [
    "import json\n",
    "import openai\n",
    "import csv"
   ]
  },
  {
   "cell_type": "code",
   "execution_count": 17,
   "metadata": {},
   "outputs": [],
   "source": [
    "secrets = json.load(open('../api_keys.json', 'r'))"
   ]
  },
  {
   "cell_type": "code",
   "execution_count": 18,
   "metadata": {},
   "outputs": [],
   "source": [
    "openai.organization = secrets['organization']\n",
    "openai.api_key = secrets['api_key']"
   ]
  },
  {
   "cell_type": "code",
   "execution_count": 19,
   "metadata": {},
   "outputs": [],
   "source": [
    "csvfile = open('../mturk_data1.csv', newline='', encoding='utf-8')\n",
    "train_file = list(csv.reader(csvfile, delimiter=','))\n",
    "csvfile.close()"
   ]
  },
  {
   "cell_type": "code",
   "execution_count": 35,
   "metadata": {},
   "outputs": [],
   "source": [
    "# example = json.loads(train_json[5].encode('utf-8'))"
   ]
  },
  {
   "cell_type": "code",
   "execution_count": 36,
   "metadata": {},
   "outputs": [],
   "source": [
    "# example['text']"
   ]
  },
  {
   "cell_type": "code",
   "execution_count": 37,
   "metadata": {},
   "outputs": [],
   "source": [
    "# triggers = []\n",
    "\n",
    "# for i in example['event_mentions']:\n",
    "#     triggers.append(i['trigger']['text'])"
   ]
  },
  {
   "cell_type": "code",
   "execution_count": 38,
   "metadata": {},
   "outputs": [],
   "source": [
    "# triggers"
   ]
  },
  {
   "cell_type": "code",
   "execution_count": 39,
   "metadata": {},
   "outputs": [],
   "source": [
    "# prompt = 'Here is a passage: {passage}\\n Please provide multiple wh* (who, what, when, where) questions with their corresponding answers regarding the following event trigger word in the passage: {trigger}.\\n The questions MUST include the trigger word and should try to follow this template:\\nwh* helping-verb subject trigger object1 proposition object2.\\nExample: What did Charlie eat at the Chocolate Factory?\\nNot every argument of the template must be used. Please make sure answers are accurate and come from direct quotes in the passage'.format(passage=example['text'], trigger=triggers[1])"
   ]
  },
  {
   "cell_type": "code",
   "execution_count": 40,
   "metadata": {},
   "outputs": [],
   "source": [
    "# messages = [\n",
    "#     {\"role\": \"system\", \"content\": \"you help provide questions and answers to annotate passages\"},\n",
    "#     {\"role\": \"user\", \"content\": prompt},\n",
    "#     {\"role\": \"user\", \"content\": \"here is an example of what I want:\\n{example}\".format(example=example)},\n",
    "#     {\"role\": \"assistant\", \"content\": \"Question: Who was injured?\"},\n",
    "#     {\"role\": \"assistant\", \"content\": \"Answer: Terry Duffield\"},\n",
    "#     {\"role\": \"user\", \"content\": \"That's a great question and answer. Please provide more\"}\n",
    "# ]\n",
    "# messages"
   ]
  },
  {
   "cell_type": "code",
   "execution_count": 41,
   "metadata": {},
   "outputs": [],
   "source": [
    "# response = openai.ChatCompletion.create(\n",
    "#     model='gpt-3.5-turbo-0301',\n",
    "#     messages = messages\n",
    "# )"
   ]
  },
  {
   "cell_type": "code",
   "execution_count": 42,
   "metadata": {},
   "outputs": [],
   "source": [
    "# response['choices'][0]['message']['content']"
   ]
  },
  {
   "cell_type": "code",
   "execution_count": 24,
   "metadata": {},
   "outputs": [],
   "source": [
    "txt_file = open('gpt3.5_turbo_0301_responses1.txt', 'w')"
   ]
  },
  {
   "cell_type": "code",
   "execution_count": 25,
   "metadata": {},
   "outputs": [],
   "source": [
    "demo = 'A settlement has been reached in a $1-million lawsuit filed by a taxi driver accusing police of negligence after he got caught up in the August 2016 take-down of ISIS-sympathizer Aaron Driver.READ MORE: FBI agent whose tip thwarted 2016 ISIS <b>attack</b> in Ontario says he was glad to helpTerry Duffield was injured when Driver detonated a homemade explosive in the back of his cab in August 2016.“I have to be very careful because there is an agreement to not disclose any of the terms of the settlement,” Duffield’s lawyer Kevin Egan told 980 CFPL.“The statement of claim, I guess, speaks for itself in regard to what we alleged.”WATCH: Ontario taxi driver files $1M lawsuit against police2:18 Ontario taxi driver files $1M lawsuit against police Ontario taxi driver files $1M lawsuit against policeThat statement of claim, which Global News obtained a copy of in late March 2018, said police had more than enough time to intervene before Driver got into Duffield’s taxi. The Attorney General of Canada, the Ontario government, Strathroy-Caradoc Police Service and London Police Service were named as defendants.Story continues below advertisementOn the morning of Aug. 10, 2016, U.S. authorities notified the RCMP they had detected a so-called martyrdom video in which a Canadian man said he was about to conduct an attack.The RCMP identified the man in the video as Driver and a tactical team surrounded his house in Strathroy.At 3:45 p.m., Driver called for a cab to take him to Citi Plaza in London. The claim alleged that despite the police presence, Duffield was not stopped from pulling into Driver’s driveway. Driver then came out of the house and got into the back seat of the cab.“When the SWAT team approached the vehicle, [Duffield] turned to Mr. Driver and said, ‘I think they’re here to talk to you’ and he leaned over to get his cigarettes, it’s a bench seat in the front of the taxicab, as he put his head down below the bench seat, the bomb went off.”Story continues below advertisementThe inside of the cab where Aaron Driver detonated an explosive device on Aug. 10, 2016. Handout / RCMPEgan said Duffield had a preexisting back injury and the bomb blast triggered recurring pain. He also noted that his client was psychologically impacted by the event and is no longer able to work as a taxi driver.“He did try it. Got in a vehicle, turned the key on and started to shake and sweat and got out of the vehicle and vomited,” said Egan. Tweet This“He was so traumatized by the event. He realized that any time any potential passenger was approaching the vehicle with a package he would be hyper-vigilant about that and just couldn’t handle it emotionally.”Details of the settlement will not be made public, but Egan noted that no amount of money can properly compensate someone for physical or psychological injuries, but “is the best we can do in the circumstance.” He also noted that, while he was unwilling to disclose too much of Duffield’s personal health, he has received some counselling and is “coping better now than he was then.”Story continues below advertisement– with files from Stewart Bell and Andrew Russell.\\nAttack\\nQ: Who attacked?\\nA: ISIS\\nQ: When did the attack happen?'"
   ]
  },
  {
   "cell_type": "code",
   "execution_count": 26,
   "metadata": {},
   "outputs": [],
   "source": [
    "bootstrap_qa_pairs = {}\n",
    "for i, example in enumerate(train_file[1:]):\n",
    "    bootstrap_qa_pairs[i] = ''\n",
    "    passage = example[0]\n",
    "    txt_file.write('example {num}'.format(num=i))\n",
    "    txt_file.write('\\n')\n",
    "    txt_file.write(example[0])\n",
    "    txt_file.write('\\n')\n",
    "    trigger = example[1]\n",
    "    txt_file.write(trigger)\n",
    "    txt_file.write(':\\n')\n",
    "    prompt = 'Here is the passage: {passage}\\nThe trigger is:\\n{trigger}'.format(passage=example[0], trigger=trigger)\n",
    "    messages = [\n",
    "        {\"role\": \"system\", \"content\": \"you help provide questions and answers to annotate passages\"},\n",
    "        {\"role\": \"user\", \"content\": \"You are an assistant that reads through a passage and provides all possible question and answer pairs to the bolded word. The bolded word is the event trigger, and the questions will help ascertain facts about the event. The questions must be in this template:\\nwh* verb subject trigger object1 preposition object2\\nWh* is a question word that starts with wh (i.e. who, what, when, where). The subject performs the action. The object is the person, place, or thing being acted upon by the subject\\'s verb. A preposition is a word or group of words used before a noun, pronoun, or noun phrase to show direction, time, place, location, spatial relationships, or to introduce an object. Answers MUST be direct quotes from the passage. Do not ask any inference questions.\"},\n",
    "        {\"role\": \"user\", \"content\": \"This is a demo of what I want: {demo}\".format(demo=demo)},\n",
    "        {\"role\": \"user\", \"content\": prompt}\n",
    "    ]\n",
    "    response = openai.ChatCompletion.create(\n",
    "        model='gpt-3.5-turbo-0301',\n",
    "        messages = messages\n",
    "    )\n",
    "    txt_file.write(response['choices'][0]['message']['content'])\n",
    "    txt_file.write('\\n')\n",
    "    txt_file.write('\\n')\n",
    "    bootstrap_qa_pairs[i] = response['choices'][0]['message']['content']\n",
    "txt_file.close()"
   ]
  },
  {
   "cell_type": "code",
   "execution_count": 23,
   "metadata": {},
   "outputs": [
    {
     "data": {
      "text/plain": [
       "{0: 'Q: Who was charged?\\nA: Naser Jason Abdo.\\n\\nQ: What was Naser Jason Abdo charged with?\\nA: \" ... possession of an unregistered destructive device, as well as possession of a firearm and ammunition by a fugitive from justice.\"\\n\\nQ: When was the indictment returned?\\nA: The indictment was returned \"this afternoon.\"',\n",
       " 1: 'Q: What is an indictment?\\nA: \"An indictment is merely a charge\" \\nQ: What charges were included in the indictment?\\nA: \"the three-count indictment specifically alleges that on July 27, 2011, Abdo was in possession of a destructive device not registered to him in the National Firearms Registration and Transfer Record as well as a .40 caliber semi-automatic pistol and 20-gauge shot shells while being a fugitive from justice.\" \\nQ: What was Abdo accused of possessing?\\nA: \"Abdo was in possession of a destructive device not registered to him in the National Firearms Registration and Transfer Record as well as a .40 caliber semi-automatic pistol and 20-gauge shot shells \"',\n",
       " 2: 'Q: Who was arrested? \\nA: Naser Jason Abdo \\n\\nQ: When was Naser Jason Abdo arrested?\\nA: Naser Jason Abdo was arrested on July 27, 2011. \\n\\nQ: Why was Naser Jason Abdo arrested? \\nA: Naser Jason Abdo was arrested for being a fugitive from justice, as well as possession of an unregistered destructive device, possession of a firearm and ammunition.',\n",
       " 3: 'Q: Who was arrested?\\nA: Naser Jason Abdo.\\nQ: When was Abdo arrested?\\nA: \"officers with the Killeen (Texas) Police Department arrested Abdo on July 27, 2011.\"\\nQ: What was Abdo in possession of at the time of his arrest?\\nA: \"the defendant [...] was in possession of the handgun plus instructions on how to build a bomb as well as bomb making components, including six bottles of smokeless gunpowder, shotgun shells, shotgun pellets, two clocks, two spools of auto wire, an electric drill, and two pressure cookers.\"',\n",
       " 4: 'Q: What did Naser Jason Abdo intend to detonate?\\nA: \"materials to assemble two destructive devices.\"\\n\\nQ: Where did Abdo plan to detonate the devices?\\nA: \"inside an unspecified restaurant frequented by soldiers from Fort Hood.\"\\n\\nQ: Was Abdo successful in detonating the devices?\\nA: There is no information in the passage indicating whether Abdo was successful in detonating the devices.',\n",
       " 5: 'Q: Who announced the indictment?\\nA: U.S. Attorney John E. Murphy and FBI Special Agent in Charge Cory B. Nelson. \\n\\nQ: What was Naser Jason Abdo charged with?\\nA: \"An indictment this afternoon charging 21-year-old Naser Jason Abdo with possession of an unregistered destructive device, as well as possession of a firearm and ammunition by a fugitive from justice.\" \\n\\nQ: Why was Naser Jason Abdo considered a fugitive from justice?\\nA: Because he was an AWOL soldier from Fort Campbell, Kentucky at the time of his arrest. \\n\\nQ: What did Naser Jason Abdo intend to do with the materials he possessed?\\nA: \"Court documents also allege that Abdo intended to use the materials to assemble two destructive devices with the intention of detonating them inside an unspecified restaurant frequented by soldiers from Fort Hood.\" \\n\\nQ: What is the maximum punishment Naser Jason Abdo faces if convicted?\\nA: \"If convicted, he faces up to 10 in years in federal prison and a maximum $250, 000 fine per count.\" \\n\\nQ: Who is prosecuting the case on behalf of the government?\\nA: Assistant U.S. Attorney Mark Frazier.',\n",
       " 6: 'Q: Who was indicted for possession of unregistered destructive device and possession of a firearm and ammunition by a fugitive from justice?\\nA: Naser Jason Abdo.\\n\\nQ: What was found during the arrest of the defendant?\\nA: \"At the time of his arrest, the defendant, an AWOL soldier from Fort Campbell, Kentucky, was in possession of the handgun plus instructions on how to build a bomb as well as bomb making components, including six bottles of smokeless gunpowder, shotgun shells, shotgun pellets, two clocks, two spools of auto wire, an electric drill, and two pressure cookers.\"\\n\\nQ: What was the defendant\\'s plan for the two destructive devices?\\nA: \"Court documents also allege that Abdo intended to use the materials to assemble two destructive devices with the intention of detonating them inside an unspecified restaurant frequented by soldiers from Fort Hood.\"\\n\\nQ: What is the maximum sentence the defendant faces if convicted?\\nA: \"If convicted, he faces up to 10 years in federal prison and a maximum $250, 000 fine per count.\"',\n",
       " 7: 'Q: What happened on July 27, 2011?\\nA: Abdo was in possession of a destructive device, firearm, and ammunition while being a fugitive from justice.\\nQ: Who arrested Abdo?\\nA: Officers with the Killeen (Texas) Police Department arrested Abdo.\\nQ: What was Abdo’s intention with the materials?\\nA: Abdo intended to use the materials to assemble two destructive devices with the intention of detonating them inside an unspecified restaurant frequented by soldiers from Fort Hood.\\nQ: Who is investigating the case?\\nA: Agents with the FBI, U.S. Army Criminal Investigation Command; Bureau of Alcohol, Tobacco, Firearms, and Explosives; Killeen Police Department; and the Texas Department of Public Safety are investigating the case.',\n",
       " 8: 'Q: Who is prosecuting the case against Naser Jason Abdo?\\nA: Assistant U. S. Attorney Mark Frazier is prosecuting this case on behalf of the government.\\n\\nQ: What is Naser Jason Abdo being charged with?\\nA: The indictment charges 21-year-old Naser Jason Abdo with possession of an unregistered destructive device, possession of a firearm and ammunition by a fugitive from justice, and possession of a destructive device not registered to him in the National Firearms Registration and Transfer Record.\\n\\nQ: What law enforcement agencies are involved in investigating this case?\\nA: FBI, U. S. Army Criminal Investigation Command, Bureau of Alcohol, Tobacco, Firearms and Explosives, Killeen Police Department, and Texas Department of Public Safety are investigating this case.',\n",
       " 9: 'Q: What is an indictment?\\nA: \"An indictment is merely a charge and should not be considered as evidence of guilt.\"\\n\\nQ: Who was indicted?\\nA: \"21-year-old Naser Jason Abdo.\"\\n\\nQ: What was Naser Jason Abdo charged with? \\nA: \"The three-count indictment specifically alleges that on July 27, 2011, Abdo was in possession of a destructive device not registered to him in the National Firearms Registration and Transfer Record as well as a. 40 caliber semi-automatic pistol and 20-gauge shot shells while being a fugitive from justice.\"',\n",
       " 10: 'Q: What is the charge against Naser Jason Abdo?\\nA: \"the indictment ... charging 21-year-old Naser Jason Abdo with possession of an unregistered destructive device, as well as possession of a firearm and ammunition by a fugitive from justice.\"\\n\\nQ: What is an indictment?\\nA: \"An indictment is merely a charge and should not be considered as evidence of guilt.\"',\n",
       " 11: 'Q: What is the purpose of the inspections?\\nA: To resume intrusive on-site UN weapons inspections.\\nQ: Who benefits from Saddam\\'s cooperation with U.N. inspectors?\\nA: Saddam Hussein benefits by being rewarded for his \"cooperation\" by the elimination of international economic and trade sanctions against Iraq.\\nQ: How long would it take for Saddam to stockpile weapons again even if he cooperated with U.N. inspectors?\\nA: \"he could resume covertly stockpiling them again in as little as six-months time.\"\\nQ: According to the article, what evidence exists that Saddam Hussein was involved in one or more terrorist attacks against the United States?\\nA: According to the Evening Standard, the Bush Justice Department has begun to take a serious interest in Jayna Davis\\' evidence linking Saddam Hussein to several terrorist attacks.',\n",
       " 12: 'Q: What bombing is being referred to in this passage?\\nA: The Oklahoma City bombing.\\n\\nQ: Who does the author implicate in the Oklahoma City bombing?\\nA: Iraqi operatives and Saddam Hussein.\\n\\nQ: What is the evidence that Ms. Davis presents to implicate Iraqi operatives in the Oklahoma City bombing?\\nA: \"Ms. Davis has identified a man whose photo matches that of a \\'John Doe #2\\' sought immediately after the Murrah Building attack. He appears to be a Palestinian by the name of Hussain Hashem Al Hussaini, who sported a tattoo suggesting he had served in Saddam\\'s elite Republican Guard.\"\\n\\nQ: According to the author, can Saddam Hussein\\'s \"ephemeral attitudinal adjustment\" remove the threat from Iraq\\'s weapons of mass destruction programs?\\nA: No, even if Saddam cooperated with the UN inspectors and assisted in the complete elimination of his chemical and biological arsenals, he could resume covertly stockpiling them again in a short amount of time.',\n",
       " 13: 'Q: What has the author suggested about Saddam’s regime and his attitude towards on-site U.N. inspections? \\nA: Saddam Hussein\\'s willingness to \"change\" his attitude towards permitting the resumption of intrusive on-site U.N. weapons inspections will not, in fact, eliminate the danger posed by him and his ruling clique. \\n\\nQ: What would happen if Saddam were to cooperate with the U.N. inspectors and assist in the complete elimination of his chemical and biological arsenals? \\nA: He could resume covertly stockpiling them again in as little as six-months time. \\n\\nQ: What evidence suggests that Iraqi operatives were involved in the Oklahoma City bombing? \\nA: The Standard article draws on investigative reporting and forensic analysis into the Oklahoma City bombing performed over the past seven years by an intrepid and tenacious former TV journalist, Jayna Davis. She offers compelling, if circumstantial, indications that Iraqi operatives helped to plot, prepare and execute murderous attacks in Oklahoma City (and perhaps against other targets in the United States). \\n\\nQ: What is the modus operandi of Saddam Hussein according to Dr. Laurie Mylroie’s thesis? \\nA: According to this thesis, the first attempt aimed at destroying the Twin Towers was not exclusively accomplished by followers of a blind Egyptian sheik with ties to Iran. This conclusion was actually a bonus for Hussein, because it vectored blame at Iran, his most formidable enemy and neighbor. Similarly, Oklahoma City was not, as prosecutors claimed, simply the homegrown handiwork of two violently disaffected U.S. citizens. And Sept. 11 was not the product solely of Usama bin Laden\\'s al Qaeda network. In each of these cases, there is reason to believe that Saddam Hussein and his minions played some role in the murder of Americans.',\n",
       " 14: 'Q: What was the Oklahoma City bombing?\\nA: \"evidence implicating Saddam Hussein in one or more deadly acts of terror against the United States, specifically the Oklahoma City bombing.\"\\nQ: Who helped in plotting the Oklahoma City bombing according to the article?\\nA:\"Iraqi operatives helped to plot, prepare and execute murderous attacks in Oklahoma City.\"\\nQ: Who was sought immediately after the Murrah Building attack and what was his possible connection to Saddam Hussein?\\nA: \"a man whose photo matches that of a \\'John Doe #2\\' sought immediately after the Murrah Building attack. He appears to be a Palestinian by the name of Hussain Hashem Al Hussaini, who sported a tattoo suggesting he had served in Saddam\\'s elite Republican Guard.\" \\nQ: Who performed investigative reporting and forensic analysis into the Oklahoma City bombing mentioned in the article?\\nA: \"an intrepid and tenacious former TV journalist, Jayna Davis.\"',\n",
       " 15: 'Q: What attack is referenced in the passage?\\nA: The Oklahoma City bombing. \\n\\nQ: Who is implicated in the attack?\\nA: Iraqi operatives. \\n\\nQ: What evidence is used to support this claim?\\nA: Investigative reporting, forensic analysis, and witness testimony gathered by Jayna Davis. \\n\\nQ: How do investigators believe Saddam Hussein was involved in the attack?\\nA: As part of his modus operandi, it is thought that he employed cut-outs to cover his tracks and evade blame.',\n",
       " 16: \"Q: Who are the individuals that consorted with former Iraqi soldiers?\\nA: Timothy McVeigh and his convicted co-conspirator, Terry Nichols.\\nQ: How does Ms. Davis's evidence support the claim of Iraqi involvement in the Oklahoma City bombing?\\nA: According to Ms. Davis' evidence, witnesses saw McVeigh and Nichols consorting with former Iraqi soldiers who were absent from work on the day of the bombing and were seen celebrating after it occurred.\",\n",
       " 17: \"Q: What was the Oklahoma City bombing?\\nA: It was a deadly terrorist attack in Oklahoma City.\\nQ: Who was implicated in the Oklahoma City bombing?\\nA: Iraqi operatives were implicated in the Oklahoma City bombing.\\nQ: Who provided evidence of the Iraqi involvement in the Oklahoma City bombing?\\nA: Investigative reporter Jayna Davis provided evidence of the Iraqi involvement in the Oklahoma City bombing.\\nQ: What was the evidence implicating Saddam Hussein in the Oklahoma City bombing?\\nA: Witnesses saw Iraqi operatives in the company of convicted bomber Timothy McVeigh, and the tatoo on one of the operatives suggested he had served in Saddam's elite Republican Guard. Additionally, some of the operatives were absent from work on the day of the bombing and were seen celebrating after it occurred.\\nQ: What is the author's opinion on Saddam Hussein's removal from power in Iraq? \\nA: The author believes that Saddam Hussein and his regime must be removed from power in Iraq to eliminate the threat posed by his weapons of mass destruction programs, and to avenge those Americans who have already been murdered by the Butcher of Baghdad and his co-conspirators.\",\n",
       " 18: \"Q: What was the bombing mentioned in the passage?  \\nA: The bombing mentioned in the passage was the Oklahoma City bombing. \\n\\nQ: Who was implicated in the Oklahoma City bombing, according to the evidence presented in the passage? \\nA: Iraqi operatives were implicated in the Oklahoma City bombing, according to the evidence presented in the passage. \\n\\nQ: Who connected Iraqi operatives to the Oklahoma City bombing? \\nA: Investigative reporter Jayna Davis connected Iraqi operatives to the Oklahoma City bombing. \\n\\nQ: Why does the text argue that Saddam Hussein's willingness to cooperate with on-site U.N. inspections will not eliminate the danger posed by him and his ruling clique? \\nA: Even if Saddam cooperates with on-site inspections and eliminates his chemical and biological arsenals, he could resume covertly stockpiling them again in as little as six-months time.\",\n",
       " 19: 'Q: What is being described in the passage?\\nA: Evidence implicating Saddam Hussein in one or more deadly acts of terror against the United States, specifically the Oklahoma City bombing.\\nQ: Who is Jayna Davis?\\nA: \"an intrepid and tenacious former TV journalist\" who performed investigative reporting and forensic analysis into the Oklahoma City bombing over the past seven years.\\nQ: Who are Timothy McVeigh and Terry Nichols?\\nA: \"convicted co-conspirator[s]\" in the Oklahoma City bombing.',\n",
       " 20: \"Q: What is the murder mentioned in the passage?\\nA: The murder of Americans, such as in the Oklahoma City bombing and possibly other deadly acts of terror. \\nQ: Who is implicated in the murder?\\nA: Iraqi operatives, with evidence pointing to Hussein's regime as being involved in planning, preparing, and executing these attacks.\",\n",
       " 21: 'Q: Who is implicated in the Oklahoma City bombing?\\nA: Iraqi operatives \\nQ: Who identified a man whose photo matched the \"John Doe #2\" sought right after the Oklahoma City bombing?\\nA: Jayna Davis \\nQ: According to the passage, how long could it take for Saddam to covertly stockpile weapons of mass destruction again if he were to cooperate with the U. N. inspectors?\\nA: \"as little as six-months time\" \\nQ: What is the danger of Saddam Hussein\\'s attitudinal adjustment towards permitting the resumption of weapons inspections?\\nA: It would not eliminate the danger posed by him and his ruling clique and would probably not even diminish meaningfully the threat from Iraq\\'s weapons of mass destruction programs.',\n",
       " 22: 'Q: What are predations?\\nA: The danger posed by Saddam Hussein and his ruling clique.\\nQ: Who warned about Saddam\\'s predations?\\nA: \"President Bush has long and repeatedly warned.\"',\n",
       " 23: 'Q: Who is responsible for the murder mentioned in the passage?\\nA: Saddam Hussein and his co-conspirators.\\n\\nQ: What specific act of terror is referenced in the passage?\\nA: The Oklahoma City bombing.\\n\\nQ: What is the evidence linking Saddam Hussein to the Oklahoma City bombing?\\nA: \"...if circumstantial, indications that Iraqi operatives helped to plot, prepare and execute murderous attacks in Oklahoma City (and perhaps against other targets in the United States).\"\\n\\nQ: Who was the former journalist that performed investigative reporting and forensic analysis into the Oklahoma City bombing?\\nA: Jayna Davis.\\n\\nQ: What is the connection between Timothy McVeigh and Hussain Hashem Al Hussaini?\\nA: Witnesses put Al Hussaini in the company of Timothy McVeigh a few days before the attack and near the site immediately beforehand.',\n",
       " 24: 'Q: What is meant by inspections?\\nA: intrusive on-site U.N. weapons inspections.\\nQ: What would happen if Saddam cooperated with the U.N. inspectors?\\nA: \"...were Saddam--against all odds and past practice--actually to cooperate with the U.N. inspectors and assist in the complete elimination of his chemical and biological arsenals, he could resume covertly stockpiling them again in as little as six-months time.\"\\nQ: What event indicated that Saddam Hussein may be involved in terror attacks against the US?\\nA: \"A news item published in the London Evening Standard last Monday provides, however, an important reminder of why the United States cannot safely accept any substitute for the toppling of Saddam\\'s regime. Specifically, it summarizes evidence implicating Saddam Hussein in one or more deadly acts of terror against the United States, specifically the Oklahoma City bombing.\"\\nQ: Who is the journalist who investigated Oklahoma City bombing?\\nA: \"Jayna Davis.\" \\nQ: What is the evidence implicating Iraqi operatives in Oklahoma City bombing?\\nA: \"She [Davis] offers compelling, if circumstantial, indications that Iraqi operatives helped to plot, prepare and execute murderous attacks in Oklahoma City.\"',\n",
       " 25: 'When and where did the blast occur?\\n- Q: \"When and where was the bomb explosion?\" \\n- A: \"Fourteen people were killed and 46 wounded by a briefcase bomb that blasted a marketplace in northeastern Armenia on Sunday, the Itar-Tass news agency said Monday.\"\\n\\nWhat caused the deaths and injuries?\\n- Q: \"What caused the deaths and injuries in the marketplace in northeastern Armenia?\" \\n- A: \"Fourteen people were killed and 46 wounded by a briefcase bomb that blasted a marketplace in northeastern Armenia on Sunday.\"\\n\\nWho were the victims of the attack? \\n- Q: \"Who were the people killed by the bomb blast in Bagratashen?\" \\n- A: \"Fourteen people were killed and 46 wounded by a briefcase bomb that blasted a marketplace in northeastern Armenia on Sunday.\"\\n\\nWhat is the location where the explosion happened known for?\\n- Q: \"What is the area near the Armenia-Georgia-Azerbaijan border known for?\" \\n- A: \"The area where the explosion happened is a center of mafia gangs dealing particularly in black-market fuel, which is in short supply in Armenia because of an embargo imposed by Azerbaijan.\"',\n",
       " 26: 'Wounded\\n \\nQ: How many people were wounded in the marketplace explosion?\\nA: 46 people were wounded in the marketplace explosion.\\n\\nQ: What caused the wounds of the 46 people after the explosion?\\nA: The explosion caused the wounds of the 46 people.\\n\\nQ: Where did the explosion happen?\\nA: The explosion happened in a marketplace in northeastern Armenia.',\n",
       " 27: 'Q: What was the cause of the casualties at the marketplace?\\nA: \"Fourteen people were killed and 46 wounded by a briefcase bomb that blasted a marketplace\" \\n\\nQ: When did the bombing happen?\\nA: \"on Sunday\" \\n\\nQ: Where did the bombing take place?\\nA: \"in northeastern Armenia\"\\n\\nQ: What was the target of the bombing?\\nA: \"a marketplace\"',\n",
       " 28: 'Q: What was wrecked? \\nA: \"Russia’s Ostankino television showed wrecked and burned stalls.\"\\nQ: When did the wrecking occur? \\nA: The passage does not provide information about when the wrecking occurred.',\n",
       " 29: 'Q: What is the conflict between Armenia and Azerbaijan about?\\nA: The conflict is about the disputed enclave of Nagorno-Karabakh, whose mainly Armenian population seeks independence from Azerbaijan.\\n\\nQ: Where did the explosion happen?\\nA: The explosion happened in the village of Bagratashen, a trading point near Armenia’s frontier with Georgia and Azerbaijan.\\n\\nQ: Is the area where the explosion happened politically unstable?\\nA: Yes, the area is politically unstable due to the 6-year-old conflict between Armenia and Azerbaijan over Nagorno-Karabakh.',\n",
       " 30: 'Q: What caused the blast? \\nA: \"an explosive device had been planted in a briefcase\"\\nQ: How many people were killed in the explosion? \\nA: \"Fourteen people were killed\"\\nQ: Where did the explosion happen? \\nA: \"in the village of Bagratashen\"\\nQ: When did the explosion happen? \\nA: It happened \"on Sunday\", but the article does not specify the date.',\n",
       " 31: 'Q: What is the embargo? \\nA: \"an embargo imposed by Azerbaijan.\"\\n\\nQ: What is the impact of the embargo? \\nA: \"black-market fuel,\" \"in short supply in Armenia,\" \"mafia gangs dealing particularly in black-market fuel.\"',\n",
       " 32: 'Q: What type of crime is being referred to in the passage?\\nA: An alleged assassination attempt of Venezuela’s President Nicolás Maduro.\\nQ: What is the Venezuelan president’s stance on the international community?\\nA: “[Maduro], whose country is in economic and political turmoil, with inflation predicted to reach 1m% this year, has long accused the international community of waging economic war on him. He regularly lambasts the US as “imperialist” and says it is out to destroy socialism while taking over Venezuela’s oil–of which it has the largest reserves in the world.” \\nQ: What do some observers think of Maduro’s account of the event?\\nA: “Some observers are suspicious of Maduro’s account of events, saying it seems a little too neat in a country where the government has long twisted the truth to its own ends.”',\n",
       " 33: 'Q: What happened when the drones flew towards the president?\\nA: \"drones loaded with explosives flew towards the president while he was speaking at a military parade in Caracas\" \\n\\nQ: Was anyone caught in relation to the drone attack? \\nA: \"a group of hired assassins had already been captured\" \\n\\nQ: Who does Venezuela\\'s president, Nicolás Maduro, accuse of being behind the attack? \\nA: \"According to Maduro, the plot was concocted by an international cabal of rightwing schemers. He claimed the Colombian president, Juan Manuel Santos, was \\'behind the attack\\', supported by a network of plotters and financiers based in Florida.\" \\n\\nQ: What is one motive that Maduro believes the international community has in undermining Venezuela? \\nA: \"taking over Venezuela’s oil – of which it has the largest reserves in the world\" \\n\\nQ: Who claimed involvement in the alleged assassination attempt? \\nA: \"one group – Soldiers Franelas – suggested involvement in a tweet\" \\n\\nQ: What did David Smilde speculate President Maduro might do with the power resulting from the attack? \\nA: \"He will use it to concentrate power, whoever did this. He’ll use it to further restrict liberty and purge the government and armed forces.\"',\n",
       " 34: 'Speaking\\n\\nQ: Where was Maduro speaking when the alleged assassination attempt occurred?\\nA: \"while he was speaking at a military parade in Caracas.\"\\n\\nQ: Was anyone with Maduro when the alleged assassination attempt occurred?\\nA: It is not mentioned in the passage.\\n\\nQ: What happened to Maduro when the explosive-laden drones flew toward him while he was speaking?\\nA: It is not mentioned in the passage, but official reports claim that the drones didn\\'t reach the target and that Maduro survived unharmed. \\n\\nQ: Who does Maduro blame for the attack when he was speaking?\\nA: \"He claimed the Colombian president, Juan Manuel Santos, was \\'behind the attack\\' , supported by a network of plotters and financiers based in Florida.\"',\n",
       " 35: \"Q: Who was the target of the attack?\\nA: Venezuela's president, Nicolás Maduro.\\n\\nQ: Where was the president when the attack occurred?\\nA: He was speaking at a military parade in Caracas.\\n\\nQ: Who does Maduro believe was behind the attack?\\nA: According to Maduro, the plot was concocted by an international cabal of rightwing schemers. He claimed the Colombian president, Juan Manuel Santos, was “behind the attack”, supported by a network of plotters and financiers based in Florida.\\n\\nQ: Who has been captured in connection with the attack?\\nA: Maduro claims a group of hired assassins had already been captured.\\n\\nQ: Who claimed responsibility for the alleged assassination attempt?\\nA: One group - Soldiers Franelas - suggested involvement in a tweet.\",\n",
       " 36: 'Q: Who was jailed?\\nA: \"Maduro has jailed and sidelined many opposition activists.\"',\n",
       " 37: 'launched \\n\\nQ: What is the context of the word \"launched\"?\\nA: \"Some analysts suspect Soldiers Franelas of involvement in that incident.\"\\n\\nQ: Who launched grenades at government buildings in Caracas?\\nA: Oscar Perez, a rogue police officer. \\n\\nQ: Was the incident involving the rogue police officer successful?\\nA: The passage does not give information on whether or not the incident was successful. \\n\\nQ: Was anyone killed during the previous incident?\\nA: Yes, Oscar Perez was killed in a shootout six months later. \\n\\nQ: Who is being blamed for the alleged assassination attempt?\\nA: The Soldiers Franelas group is suspected of involvement in the alleged assassination attempt.',\n",
       " 38: 'Q: Who was killed?\\nA: Óscar Pérez, a rogue police officer.\\nQ: When did Óscar Pérez die?\\nA: He was killed in a shootout six months after the incident where he launched grenades from a stolen helicopter at government buildings in Caracas.',\n",
       " 39: 'Q: Who was involved in the shootout?\\nA: Óscar Pérez, a rogue police officer. \\n\\nQ: Was Óscar Pérez killed in the shootout?\\nA: Yes, he was killed in a shootout six months later.',\n",
       " 40: 'Q: Who was interviewed?\\nA: Firefighters.',\n",
       " 41: 'Q: What kind of attack was it?\\nA: The attack was carried out by drones loaded with explosives.\\n\\nQ: Where did the attack take place?\\nA: The attack took place at a military parade in Caracas.\\n\\nQ: Who does Maduro claim was responsible for the attack?\\nA: According to Maduro, the plot was concocted by an international cabal of rightwing schemers, with Colombian president Juan Manuel Santos supposedly behind the attack, supported by a network of plotters and financiers based in Florida.\\n\\nQ: Who does Maduro accuse of waging economic war on Venezuela?\\nA: Maduro accuses the international community of waging economic war on him.\\n\\nQ: Why does Maduro regularly lambast the US?\\nA: Maduro regularly lambasts the US as \"imperialist\" and says it is out to destroy socialism while taking over Venezuela\\'s oil of which it has the largest reserves in the world.\\n\\nQ: Has anyone claimed responsibility for the attack?\\nA: No one has claimed responsibility for the alleged assassination attempt outright, though one group-Soldiers Franelas-suggested involvement in a tweet.\\n\\nQ: What does David Smilde believe Maduro will do after the attack?\\nA: David Smilde believes the embattled president will still probably use the attack to cement his power and \"He will use it to further restrict liberty and purge the government and armed forces.\"',\n",
       " 42: \"Q: What caused the bangs heard during the event?\\nA: Firefighters claimed the bangs heard were caused by a gas tank explosion in a nearby apartment.\\n\\nQ: Do some observers believe Maduro's account of events?\\nA: Some observers are suspicious of Maduro’s account of events.\",\n",
       " 43: 'Q: What type of attack allegedly occurred in Venezuela? \\nA: An assassination attempt on President Maduro with drones loaded with explosives.\\nQ: Who does Maduro believe is behind the attack?\\nA: According to official reports, he stated that the plot was concocted by an international cabal of rightwing schemers, including the Colombian President Juan Manuel Santos and a network of plotters and financiers based in Florida.\\nQ: Who is Soldiers Franelas and what did they say regarding the attack?\\nA: Soldiers Franelas is a group that regularly posts anti-Maduro tweets on Twitter, and they suggested involvement in a tweet about the attack stating: \"We have shown [the government] is vulnerable,\" the group said. \" [The attack] wasn\\'t achieved today but it is just a matter of time [until it is].\"\\nQ: What is the speculation of David Smilde, a senior fellow at the Washington Office on Latin America, regarding the alleged attack?\\nA: Smilde doubts that the incident was a staged attack and claimed that Maduro will use the attack to concentrate power and further restrict liberty and purge the government and armed forces.',\n",
       " 44: 'Q: Who was the target of the attack?\\nA: Venezuela\\'s president, Nicolás Maduro.\\nQ: How was the attack carried out?\\nA: Drones loaded with explosives flew towards the president while he was speaking at a military parade in Caracas.\\nQ: Who does Maduro claim was behind the attack?\\nA: He claimed the Colombian president, Juan Manuel Santos, was \"behind the attack\", supported by a network of plotters and financiers based in Florida.\\nQ: Who are Soldiers Franelas?\\nA: Soldiers Franelas is a group of unknown origin that regularly posts anti-Maduro tweets on Twitter and suggested involvement in the attack in a tweet, but no one has claimed responsibility for the alleged assassination attempt outright.\\nQ: What do some observers suspect about Maduro\\'s account of events?\\nA: Some observers are suspicious of his account of events, saying it seems a little too neat in a country where the government has long twisted the truth to its own ends.',\n",
       " 45: 'Arrested\\n1. Whom did the police arrest?\\n- A foreigner suspect.\\n2. What was the suspect charged with?\\n- Possessing explosives.\\n3. Who made the announcement of the arrest?\\n- The Thai military junta.\\n4. When was the suspect arrested?\\n- On August 29, 2015.\\n5. Where was the suspect arrested?\\n- On the eastern fringe of Bangkok.\\n6. What other materials were found with the suspect?\\n- Ball bearings, fuses, pipes, and a stack of Turkish passports.\\n7. What was the motive behind the bombing, according to the Thai national police chief?\\n- Taking personal revenge for his comrades.',\n",
       " 46: \"Q: What happened in the incident?\\nA: A bombing occurred. \\n\\nQ: When did the bombing occur?\\nA: The bombing occurred earlier this month. \\n\\nQ: How many people were killed in the bombing?\\nA: 20 people were killed in the bombing. \\n\\nQ: Who was arrested in connection with the bombing?\\nA: A foreigner was arrested in connection with the bombing. \\n\\nQ: What was the suspect charged with?\\nA: The suspect was charged with possessing explosives. \\n\\nQ: What other materials were found with the suspect?\\nA: The suspect was also found with ball bearings, fuses, pipes and other bomb-making materials, as well as a stack of Turkish passports. \\n\\nQ: How many people were injured in the bombing?\\nA: More than 100 people of numerous nationalities were injured in the bombing. \\n\\nQ: What was the motive behind the bombing?\\nA: The motive was revenge for the perpetrator's comrades.\",\n",
       " 47: 'Killed\\nQ: How many people were killed in the bombing?\\nA: 20 people.\\nQ: Who was arrested in connection with the bombing?\\nA: A foreigner.',\n",
       " 48: 'Q: What is the suspect being charged with?\\nA: \"possessing explosives\" \\n\\nQ: Who is charging the suspect?\\nA: \"Police in Thailand\" \\n\\nQ: What else was the suspect found with?\\nA: \"ball bearings, fuses, pipes, and other bomb-making materials\"',\n",
       " 49: 'Broadcast\\nQ: What was the broadcast about?\\nA: \"All Thai television channels carried a brief broadcast by the Thai military junta at 6 p.m. Saturday announcing the arrest.\"\\nQ: Who made the broadcast?\\nA: \"The Thai military junta\"',\n",
       " 50: 'Detained\\n\\nQ: Who was detained?\\nA: A foreign man.\\n\\nQ: When was the suspect detained?\\nA: On the August 29.\\n\\nQ: What was the suspect charged with?\\nA: Possessing explosives.',\n",
       " 51: 'Q: When did the bombing happen?\\nA: \"The bombing earlier this month that killed 20 people.\"\\n \\nQ: How many people were killed in the bombing? \\nA: \"killed 20 people.\"\\n \\nQ: Where did the bombing occur? \\nA: \"at the popular Erawan Hindu Shrine in central Bangkok.\"\\n \\nQ: Who was arrested in connection to the bombing? \\nA: \"a suspect Saturday in connection with the bombing earlier this month that killed 20 people.\"\\n \\nQ: What materials did the suspect have when he was arrested? \\nA: \"ball bearings, fuses, pipes and other bomb-making materials, as well as a stack of Turkish passports.\"\\n \\nQ: What is the suspect being charged with? \\nA: \"being charged with possessing explosives.\"',\n",
       " 52: 'Killed\\n\\nQ: How many people died in the blast?\\nA: \"killed 20 people\"\\n\\nQ: When did the bombing occur?\\nA: \"earlier this month\"\\n\\nQ: Who was responsible for the bombing?\\nA: The passage does not give a clear answer to this question.',\n",
       " 53: 'Wounding\\n\\nQ: How many people were killed during the bombing?\\nA: \"The blast at the popular Erawan Hindu Shrine in central Bangkok killed 20 people.\"\\n\\nQ: Who was targeted during the bombing?\\nA: \"Authorities denied to VOA that Chinese were likely the primary target.\" \\n\\nQ: How many people were wounded during the bombing?\\nA: \"wounding more than 100 people of numerous nationalities.\"',\n",
       " 54: 'Q: When did the attack happen? \\nA: \"earlier this month.\"\\nQ: Where did the attack take place? \\nA: \"at the popular Erawan Hindu Shrine in central Bangkok.\"\\nQ: How many people were killed in the attack? \\nA: \"killed 20 people.\"\\nQ: What was the motive behind the attack? \\nA: \"taking personal revenge for his comrades.\"',\n",
       " 55: 'Q: What caused the explosion?\\nA: The explosion was caused by a bomb that was planted at the popular Erawan Hindu Shrine.\\nQ: When did the explosion occur?\\nA: The explosion occurred on August 17, 2015.\\nQ: Was anyone injured in the explosion?\\nA: The bomb killed 20 people and more than 100 people of numerous nationalities were injured. \\nQ: Was the explosion followed by another explosion?\\nA: Yes, a day later, there was an explosion in the Chao Praya river adjacent to the Sathorn pier, about five kilometers away from the shrine, but no one was injured in that detonation. \\nQ: Were there any suspects arrested in connection with the explosion?\\nA: Yes, a foreign man was arrested in the eastern fringe of Bangkok on August 29, 2015, and charged with possessing explosives.',\n",
       " 56: 'Q: What caused the detonation?\\nA: The article does not provide information about what caused the detonation.\\n\\nQ: Where did the detonation take place?\\nA: \"It was followed a day later by an explosion in the Chao Praya river adjacent to the Sathorn pier, about five kilometers away from the shrine.\"',\n",
       " 57: 'Q: How many people were injured in the Bangkok bombing?\\nA:  More than 100 people were injured.\\nQ: Did anyone get injured in the explosion in the Chao Praya river adjacent to the Sathorn pier?\\nA: No, no one was injured in that detonation.',\n",
       " 58: 'Announcement\\n\\nQ: What was announced?\\nA: \"All Thai television channels carried a brief broadcast by the Thai military junta at 6 p.m. Saturday announcing the arrest\" of a suspect in connection with the bombing earlier in the month that killed 20 people.\\n\\nQ: Who made the announcement?\\nA: The Thai military junta made the announcement.\\n\\nQ: When was the announcement made?\\nA: The announcement was made at 6 p.m. on Saturday.\\n\\nQ: Where was the announcement made?\\nA: The announcement was made on all Thai television channels.',\n",
       " 59: 'Q: Who was arrested?\\nA: A foreign man suspected of being Turkish.\\nQ: What was the man being charged with?\\nA: Possessing explosives.\\nQ: What materials were found on the suspect?\\nA: Ball bearings, fuses, pipes, bomb-making materials, and a stack of Turkish passports.\\nQ: When was the announcement of the arrest made?\\nA: At 6 p.m. on Saturday, August 29, 2015.\\nQ: Was there any injury from the explosion on August 18, 2015?\\nA: No, there was no one injured in that detonation. \\nQ: Was it an international terrorist act?\\nA: No, the Thai national police chief told reporters Saturday evening that the attack was \"not an international terrorist act.\" \\nQ: Was the bombing connected to a wider international terrorist network?\\nA: No, according to the police, the suspects being searched for had been ruled out as being part of a wider international terrorist network.',\n",
       " 60: 'arrested\\nQ: Who was arrested?\\nA: A foreign man/suspect\\nQ: What was the suspect being charged with?\\nA: Possessing explosives\\nQ: When was the suspect arrested?\\nA: August 29, 2015\\nQ: Where was the suspect arrested?\\nA: On the eastern fringe of Bangkok, in an apartment building\\nQ: Why was the suspect arrested?\\nA: He was linked to both the bombing at the Erawan Hindu Shrine and the explosion in the Chao Praya river.',\n",
       " 61: 'Q: What was the event trigger?\\nA: The attacks.\\nQ: When did the attacks happen?\\nA: The date of the attack is not specified in the passage.',\n",
       " 62: 'Detained\\n\\nQ: Who was detained?\\nA: \"A \\'foreign man,\\' said to be 28 years of age...\"\\n\\nQ: Why was the person who was detained arrested?\\nA: The person who was detained was being charged with \"possessing explosives.\"\\n\\nQ: What other materials were found with the arrested person besides explosives?\\nA: The arrested person was also found with \"ball bearings, fuses, pipes and other bomb-making materials, as well as a stack of Turkish passports\"\\n\\nQ: When did the authorities announce the arrest of a suspect?\\nA: The arrest was announced by the Thai military junta at 6pm on Saturday. \\n\\nQ: How was the suspect identified?\\nA: The police identified the suspect through investigating records of mobile phone calls and identifying three Turkish numbers activated near the blast site.',\n",
       " 63: 'Q: What is being reported?\\nA: \"The suspect was being questioned late Saturday in the presence of officials of the Turkish Embassy, local media reported.\"',\n",
       " 64: 'Q: What did the Thai police come under criticism for?\\nA: \"The Thai police have come under criticism for their investigation\"\\nQ: What was the prime suspect wearing?\\nA: \"a man in a yellow T-shirt\"\\nQ: What did the prime suspect leave at the shrine before the explosion?\\nA: \"a bag\"',\n",
       " 65: 'Q: When did the explosion happen?\\nA: August 17, 2015\\nQ: Where did the explosion happen?\\nA: Erawan Hindu Shrine in central Bangkok \\nQ: How many people were killed in the explosion?\\nA: 20 people\\nQ: How many people were injured in the explosion?\\nA: More than 100 people',\n",
       " 66: 'Q: How many people were killed in the explosion?\\nA: 20 people were killed in the explosion.\\nQ: Was anyone injured in the second explosion near the Sathorn pier?\\nA: No one was injured in the second explosion near the Sathorn pier.\\nQ: Who was the prime suspect captured on CCTV footage before the explosion?\\nA: The prime suspect was a man in a yellow T-shirt.\\nQ: Was the explosion an international terrorist act?\\nA: The Thai national police chief said the attack was \"not an international terrorist act.\"',\n",
       " 67: 'Q: What was smashed?\\nA: Windows of Thai consulate in Istanbul.',\n",
       " 68: 'Q: Where did the attack happen?\\nA: The attack happened at the Erawan Hindu Shrine in central Bangkok, Thailand.\\n\\nQ: When did the attack occur?\\nA: The attack occurred on August 17, 2015.\\n\\nQ: Who was arrested in connection with the attack?\\nA: A foreign man, who is believed to be Turkish, was arrested in connection with the attack.\\n\\nQ: How many people were killed in the attack?\\nA: The attack killed 20 people and wounded more than 100 people of numerous nationalities.\\n\\nQ: Was the attack linked to international terrorism?\\nA: The national police chief of Thailand asserted that the attacks were not an international terrorist act but committed by the suspect who was taking personal revenge for his comrades.',\n",
       " 69: 'Arrest\\nQ: Who was arrested?\\nA: A foreign man.\\nQ: What was the suspect charged with?\\nA: The suspect was being charged with possessing explosives.\\nQ: When was the announcement of the arrest made?\\nA: The announcement was made at 6 p.m. on Saturday.',\n",
       " 70: 'Q: What caused the explosion?\\nA: The explosion was caused by a bomb.\\n\\nQ: Where did the explosion happen?\\nA: The explosion happened at the Erawan Hindu Shrine in central Bangkok.\\n\\nQ: When did the explosion happen?\\nA: The explosion happened on August 17th, 2015.\\n\\nQ: How many people died in the explosion?\\nA: 20 people died in the explosion.\\n\\nQ: Were any foreigners involved in the explosion?\\nA: Yes, a foreigner was arrested for the explosion.',\n",
       " 71: 'Q: Who asserted that the motive of the bombing was personal revenge?\\nA: Police General Somyot Pumpanmuang asserted that the motive of the main culprit was \"taking personal revenge for his comrades.\"\\nQ: Why did the police assert that the bombing was not an international terrorist act?\\nA: The police chief told reporters that the attacks were \"not an international terrorist act\" because the motive behind the bombing was personal revenge and the suspects were not part of a wider international terrorist network.',\n",
       " 72: 'Arrested\\n\\nQ: Who was arrested?\\nA: A foreign man, believed to be Turkish, was arrested.\\n\\nQ: What was the suspect charged with?\\nA: The suspect was charged with possessing explosives.\\n\\nQ: What else was found with the suspect?\\nA: The suspect was found with ball bearings, fuses, pipes and other bomb-making materials, as well as a stack of Turkish passports.\\n\\nQ: When did the arrest take place?\\nA: The arrest took place on Saturday at 6 p.m.\\n\\nQ: Why was the suspect detained?\\nA: Tip from a landlord led authorities to the suspect whose apartment building was surrounded by more than 100 police and soldiers on Saturday.'}"
      ]
     },
     "execution_count": 23,
     "metadata": {},
     "output_type": "execute_result"
    }
   ],
   "source": [
    "bootstrap_qa_pairs"
   ]
  },
  {
   "cell_type": "code",
   "execution_count": 117,
   "metadata": {},
   "outputs": [],
   "source": [
    "csv_file = open('../mturk_data1.csv', 'r')\n",
    "reader = csv.reader(csv_file)\n",
    "update = []\n",
    "for i, row in enumerate(reader):\n",
    "    temp = [row[0],row[1],bootstrap_qa_pairs[i].replace('\\n','<br>')]\n",
    "    update.append(temp)\n",
    "csv_file.close()\n",
    "\n",
    "csv_file = open('../mturk_data1.csv', 'w', newline='', encoding='utf-8')\n",
    "writer = csv.writer(csv_file)\n",
    "field = ['text','trigger','bootstrap']\n",
    "writer.writerow(field)\n",
    "for row in update:\n",
    "    writer.writerow([row[0],row[1],row[2]])\n",
    "csv_file.close()"
   ]
  },
  {
   "cell_type": "code",
   "execution_count": null,
   "metadata": {},
   "outputs": [],
   "source": []
  }
 ],
 "metadata": {
  "kernelspec": {
   "display_name": "Python 3 (ipykernel)",
   "language": "python",
   "name": "python3"
  },
  "language_info": {
   "codemirror_mode": {
    "name": "ipython",
    "version": 3
   },
   "file_extension": ".py",
   "mimetype": "text/x-python",
   "name": "python",
   "nbconvert_exporter": "python",
   "pygments_lexer": "ipython3",
   "version": "3.10.6"
  },
  "toc": {
   "base_numbering": 1,
   "nav_menu": {},
   "number_sections": true,
   "sideBar": true,
   "skip_h1_title": false,
   "title_cell": "Table of Contents",
   "title_sidebar": "Contents",
   "toc_cell": false,
   "toc_position": {},
   "toc_section_display": true,
   "toc_window_display": false
  },
  "vscode": {
   "interpreter": {
    "hash": "19d1d53a962d236aa061289c2ac16dc8e6d9648c89fe79f459ae9a3493bc67b4"
   }
  }
 },
 "nbformat": 4,
 "nbformat_minor": 2
}
